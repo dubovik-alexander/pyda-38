{
 "cells": [
  {
   "cell_type": "markdown",
   "id": "87f67fcb-3b7c-4424-a6fa-97bb0b1ff47b",
   "metadata": {},
   "source": [
    "## Домашнее задание «Библиотека numpy. Вычислительные задачи»"
   ]
  },
  {
   "cell_type": "code",
   "execution_count": null,
   "id": "49b7b419-8132-46ef-b956-7e39048bb371",
   "metadata": {},
   "outputs": [],
   "source": [
    "import numpy as np"
   ]
  },
  {
   "cell_type": "markdown",
   "id": "8b0cab3c-50e3-4d56-85a6-91bfa9103bff",
   "metadata": {},
   "source": [
    "### Задание 1\n",
    "Создайте numpy array с элементами от числа N до 0 (например, для N = 10 это будет array([9, 8, 7, 6, 5, 4, 3, 2, 1, 0]))."
   ]
  },
  {
   "cell_type": "code",
   "execution_count": 109,
   "id": "51b2073b-7472-4957-8b40-d94f95065eb9",
   "metadata": {},
   "outputs": [
    {
     "name": "stdin",
     "output_type": "stream",
     "text": [
      "Введите число 5\n"
     ]
    },
    {
     "data": {
      "text/plain": [
       "array([4, 3, 2, 1, 0])"
      ]
     },
     "execution_count": 109,
     "metadata": {},
     "output_type": "execute_result"
    }
   ],
   "source": [
    "x = int(input(\"Введите число\"))\n",
    "a = np.arange(x)\n",
    "np.flip(a)"
   ]
  },
  {
   "cell_type": "code",
   "execution_count": 110,
   "id": "78f973d5-f62c-4c2a-8867-e671828369d4",
   "metadata": {},
   "outputs": [
    {
     "data": {
      "text/plain": [
       "array([4, 3, 2, 1, 0])"
      ]
     },
     "execution_count": 110,
     "metadata": {},
     "output_type": "execute_result"
    }
   ],
   "source": [
    "a[::-1]"
   ]
  },
  {
   "cell_type": "markdown",
   "id": "553504eb-642d-4783-a79d-f1e5f7d153ef",
   "metadata": {},
   "source": [
    "### Задание 2\n",
    "Создайте диагональную матрицу с элементами от N до 0. Посчитайте сумму ее значений на диагонали.\n",
    "\n"
   ]
  },
  {
   "cell_type": "code",
   "execution_count": 111,
   "id": "3fa7a521-6d1c-4483-ba92-be9f85694bac",
   "metadata": {},
   "outputs": [
    {
     "name": "stdin",
     "output_type": "stream",
     "text": [
      "Введите число 5\n"
     ]
    },
    {
     "data": {
      "text/plain": [
       "array([[4, 0, 0, 0, 0],\n",
       "       [0, 3, 0, 0, 0],\n",
       "       [0, 0, 2, 0, 0],\n",
       "       [0, 0, 0, 1, 0],\n",
       "       [0, 0, 0, 0, 0]])"
      ]
     },
     "execution_count": 111,
     "metadata": {},
     "output_type": "execute_result"
    }
   ],
   "source": [
    "# Вариант 1. создаем матрицу - diag ( с помощью flip разворачиваем) В этом примере от 0 до N-1 - если мы считаем что N не входит\n",
    "x = int(input(\"Введите число\"))\n",
    "y = np.arange(0, x)\n",
    "z = np.flip(y)\n",
    "\n",
    "b = np.diag(z)\n",
    "\n",
    "b\n"
   ]
  },
  {
   "cell_type": "code",
   "execution_count": 112,
   "id": "86268a23-dec7-4664-8bd1-9c570aad8abf",
   "metadata": {},
   "outputs": [
    {
     "name": "stdin",
     "output_type": "stream",
     "text": [
      "Введите число 5\n"
     ]
    },
    {
     "data": {
      "text/plain": [
       "array([[4, 0, 0, 0, 0],\n",
       "       [0, 3, 0, 0, 0],\n",
       "       [0, 0, 2, 0, 0],\n",
       "       [0, 0, 0, 1, 0],\n",
       "       [0, 0, 0, 0, 0]])"
      ]
     },
     "execution_count": 112,
     "metadata": {},
     "output_type": "execute_result"
    }
   ],
   "source": [
    "# Вариант 1.2.\n",
    "b = np.diag(np.flip(np.arange(0, int(input(\"Введите число\")))))\n",
    "b"
   ]
  },
  {
   "cell_type": "code",
   "execution_count": 114,
   "id": "21e83ff0-71e3-4efb-a167-ed408822e878",
   "metadata": {},
   "outputs": [
    {
     "data": {
      "text/plain": [
       "10"
      ]
     },
     "execution_count": 114,
     "metadata": {},
     "output_type": "execute_result"
    }
   ],
   "source": [
    "# Решение (сумма по диагонали)\n",
    "np.trace(b)"
   ]
  },
  {
   "cell_type": "code",
   "execution_count": 115,
   "id": "3694b746-15f7-4d28-8ae9-3f258b8ef522",
   "metadata": {},
   "outputs": [
    {
     "name": "stdin",
     "output_type": "stream",
     "text": [
      "Введите число 5\n"
     ]
    },
    {
     "data": {
      "text/plain": [
       "array([[5, 0, 0, 0, 0, 0],\n",
       "       [0, 4, 0, 0, 0, 0],\n",
       "       [0, 0, 3, 0, 0, 0],\n",
       "       [0, 0, 0, 2, 0, 0],\n",
       "       [0, 0, 0, 0, 1, 0],\n",
       "       [0, 0, 0, 0, 0, 0]])"
      ]
     },
     "execution_count": 115,
     "metadata": {},
     "output_type": "execute_result"
    }
   ],
   "source": [
    "# Вариант, если нужно что бы входило N\n",
    "b1 = np.diag(np.flip(np.arange(0, int(input(\"Введите число\")) + 1)))\n",
    "b1"
   ]
  },
  {
   "cell_type": "code",
   "execution_count": 116,
   "id": "36ec2c75-d50a-447b-8015-b97b087d772f",
   "metadata": {},
   "outputs": [
    {
     "data": {
      "text/plain": [
       "15"
      ]
     },
     "execution_count": 116,
     "metadata": {},
     "output_type": "execute_result"
    }
   ],
   "source": [
    "# Решение (сумма по диагонали)\n",
    "np.trace(b1)"
   ]
  },
  {
   "cell_type": "code",
   "execution_count": 118,
   "id": "058a8a41-9eb4-4fa9-bc7d-fc9937c1be3e",
   "metadata": {},
   "outputs": [
    {
     "name": "stdin",
     "output_type": "stream",
     "text": [
      "Введите число 5\n"
     ]
    },
    {
     "data": {
      "text/plain": [
       "array([[5, 0, 0, 0, 0, 0],\n",
       "       [0, 4, 0, 0, 0, 0],\n",
       "       [0, 0, 3, 0, 0, 0],\n",
       "       [0, 0, 0, 2, 0, 0],\n",
       "       [0, 0, 0, 0, 1, 0],\n",
       "       [0, 0, 0, 0, 0, 0]])"
      ]
     },
     "execution_count": 118,
     "metadata": {},
     "output_type": "execute_result"
    }
   ],
   "source": [
    "# Вариант 2. без flip. создаем матрицу - diag ( разворачиваем через третий аргумент (-1)) В этом примере от 0 до N \n",
    "\n",
    "b2 = np.diag(np.arange(int(input(\"Введите число\")), -1, -1), )\n",
    "b2"
   ]
  },
  {
   "cell_type": "code",
   "execution_count": 119,
   "id": "3363ee91-2d40-4aad-b54b-87386e9f08e5",
   "metadata": {},
   "outputs": [
    {
     "data": {
      "text/plain": [
       "15"
      ]
     },
     "execution_count": 119,
     "metadata": {},
     "output_type": "execute_result"
    }
   ],
   "source": [
    "# Решение (сумма по диагонали)\n",
    "np.trace(b2)"
   ]
  },
  {
   "cell_type": "markdown",
   "id": "3ef510c3-0b89-4ed0-9088-242b2d1810c3",
   "metadata": {},
   "source": [
    "### Задание 3\n",
    "Решите систему уравнений:\n",
    "\n",
    "4x + 2y + z = 4\n",
    "\n",
    "x + 3y = 12\n",
    "\n",
    "5y + 4z = -3\n"
   ]
  },
  {
   "cell_type": "code",
   "execution_count": 121,
   "id": "7eb690dc-5cdd-486c-81b4-ebd24c0ecce6",
   "metadata": {},
   "outputs": [],
   "source": [
    "# коэффициенты при переменных в левой части уравнения\n",
    "\n",
    "a = np.array( [ [4, 2, 1], [1, 3, 0], [0, 5, 4] ] )"
   ]
  },
  {
   "cell_type": "code",
   "execution_count": 122,
   "id": "f82c1c78-b920-42bf-9d60-ce5fa30cad05",
   "metadata": {},
   "outputs": [],
   "source": [
    "# значения в правой части уравнения\n",
    "b = np.array([4, 12, -3])"
   ]
  },
  {
   "cell_type": "code",
   "execution_count": 123,
   "id": "6ffe1dca-b5f2-4dc6-91bd-e97829445744",
   "metadata": {},
   "outputs": [
    {
     "data": {
      "text/plain": [
       "array([ 0.46666667,  3.84444444, -5.55555556])"
      ]
     },
     "execution_count": 123,
     "metadata": {},
     "output_type": "execute_result"
    }
   ],
   "source": [
    "# решение\n",
    "\n",
    "from numpy import linalg\n",
    "\n",
    "linalg.solve(a, b)"
   ]
  },
  {
   "cell_type": "code",
   "execution_count": 124,
   "id": "02d0daf2-384e-4901-8336-9db99d17c3a5",
   "metadata": {},
   "outputs": [
    {
     "data": {
      "text/plain": [
       "True"
      ]
     },
     "execution_count": 124,
     "metadata": {},
     "output_type": "execute_result"
    }
   ],
   "source": [
    "# проверка верности\n",
    "\n",
    "np.allclose( np.dot(a, linalg.solve(a, b)), b )"
   ]
  },
  {
   "cell_type": "markdown",
   "id": "3f23491a-7cc9-462a-b7d7-10acd054d74c",
   "metadata": {},
   "source": [
    "### Задание 4\n",
    "Задание находится в тренажере “Косинусное сходство”"
   ]
  },
  {
   "cell_type": "markdown",
   "id": "3b1a4f70-7335-4c09-bbaf-d639ff02226b",
   "metadata": {},
   "source": [
    "Имеется матрица покупок в интернет-магазине. Столбец А - ID пользователя. Остальные столбцы - количество покупок категорий товаров этим пользователем:\n"
   ]
  },
  {
   "cell_type": "code",
   "execution_count": 126,
   "id": "4447b11c-5039-4d1e-b985-4c84c26eae16",
   "metadata": {},
   "outputs": [
    {
     "data": {
      "image/jpeg": "[encoded data removed]",
      "text/plain": [
       "<IPython.core.display.Image object>"
      ]
     },
     "execution_count": 126,
     "metadata": {},
     "output_type": "execute_result"
    }
   ],
   "source": [
    "from IPython.display import Image\n",
    "Image(\"user_matrix.JPG\")"
   ]
  },
  {
   "cell_type": "markdown",
   "id": "c72621c4-ea04-443f-a863-f9f8cd7ccf57",
   "metadata": {},
   "source": [
    "Матрица в виде numpy array"
   ]
  },
  {
   "cell_type": "code",
   "execution_count": 127,
   "id": "9074f7f9-a205-4cb0-8727-db2e8cb661c4",
   "metadata": {},
   "outputs": [],
   "source": [
    "import numpy as np"
   ]
  },
  {
   "cell_type": "code",
   "execution_count": 128,
   "id": "8b166be4-9c89-450f-840b-baebd80915d4",
   "metadata": {},
   "outputs": [],
   "source": [
    "users_stats = np.array(\n",
    "    [\n",
    "        [2, 1, 0, 0, 0, 0],\n",
    "        [1, 1, 2, 1, 0, 0],\n",
    "        [2, 0, 1, 0, 0, 0],\n",
    "        [1, 1, 2, 1, 0, 1],\n",
    "        [0, 0, 1, 2, 0, 0],\n",
    "        [0, 0, 0, 0, 0, 5],\n",
    "        [1, 0, 0, 0, 0, 0],\n",
    "        [0, 1, 1, 0, 0, 0],\n",
    "        [0, 0, 0, 1, 1, 3],\n",
    "        [1, 0, 0, 2, 1, 4]\n",
    "    ], \n",
    ")"
   ]
  },
  {
   "cell_type": "markdown",
   "id": "57efe71a-ab72-4955-a2f7-c674a300d067",
   "metadata": {},
   "source": [
    "На сайт заходит очередной посетитель, о покупках которого известно следующее:"
   ]
  },
  {
   "cell_type": "code",
   "execution_count": 129,
   "id": "b50047ca-57a7-4c32-8fdc-cb39cb25dd34",
   "metadata": {},
   "outputs": [],
   "source": [
    "next_user_stats = np.array([0, 1, 2, 0, 0, 0])"
   ]
  },
  {
   "cell_type": "markdown",
   "id": "d7a33b97-eca3-4c44-b48f-65472c409787",
   "metadata": {},
   "source": [
    "Найдите индекс самого похожего пользователя max_index"
   ]
  },
  {
   "cell_type": "code",
   "execution_count": 131,
   "id": "43663fe0-3d12-46ae-9e68-d650817a1756",
   "metadata": {},
   "outputs": [],
   "source": [
    "from numpy import dot\n",
    "from numpy. linalg import norm"
   ]
  },
  {
   "cell_type": "code",
   "execution_count": 164,
   "id": "0da76208-487a-4d12-be98-cb667002f980",
   "metadata": {},
   "outputs": [
    {
     "name": "stdout",
     "output_type": "stream",
     "text": [
      "Наиболее близкий пользователь имеет индекс 7\n"
     ]
    }
   ],
   "source": [
    "max_cos = 0\n",
    "max_ind = 0 \n",
    "for i, user in enumerate(users_stats):\n",
    "    cos_sim = dot (user, next_user_stats)/( norm (user) * norm (next_user_stats))  # Косинусное сходство матрицы 1 к новому пользователю\n",
    "    if max_cos < cos_sim: # поиск максимума схождения\n",
    "        max_cos = cos_sim \n",
    "        max_index = i\n",
    "\n",
    "print(f'Наиболее близкий пользователь имеет индекс {max_index}')"
   ]
  }
 ],
 "metadata": {
  "kernelspec": {
   "display_name": "Python 3 (ipykernel)",
   "language": "python",
   "name": "python3"
  },
  "language_info": {
   "codemirror_mode": {
    "name": "ipython",
    "version": 3
   },
   "file_extension": ".py",
   "mimetype": "text/x-python",
   "name": "python",
   "nbconvert_exporter": "python",
   "pygments_lexer": "ipython3",
   "version": "3.9.12"
  }
 },
 "nbformat": 4,
 "nbformat_minor": 5
}
