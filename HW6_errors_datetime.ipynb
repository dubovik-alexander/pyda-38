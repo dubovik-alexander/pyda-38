{
 "cells": [
  {
   "cell_type": "markdown",
   "id": "af57e76c-e6e4-4a90-8cb0-820b42a80cbf",
   "metadata": {},
   "source": [
    "### Задание 1\n",
    "Печатные газеты использовали свой формат дат для каждого выпуска. Для каждой газеты из списка напишите формат указанной даты для перевода в объект datetime:\n",
    "The Moscow Times - Wednesday, October 2, 2002\n",
    "The Guardian - Friday, 11.10.13\n",
    "Daily News - Thursday, 18 August 1977"
   ]
  },
  {
   "cell_type": "code",
   "execution_count": 18,
   "id": "0aaacd0e-eff5-46c7-bddb-331d3f0952f4",
   "metadata": {},
   "outputs": [
    {
     "name": "stdin",
     "output_type": "stream",
     "text": [
      "Введите дату в формате: ГГГГ-ММ-ДД 2022-10-12\n"
     ]
    },
    {
     "name": "stdout",
     "output_type": "stream",
     "text": [
      "The Moscow Times - Wednesday, October 12, 2022\n",
      "The Guardian - Wednesday,  10.12.2022\n",
      "Daily News - Wednesday, 12 October 2022\n"
     ]
    }
   ],
   "source": [
    "from datetime import datetime \n",
    "\n",
    "date_value =  input(\"Введите дату в формате: ГГГГ-ММ-ДД\")\n",
    "\n",
    "try:\n",
    "    date_datetime = datetime.strptime(date_value, '%Y-%m-%d' )\n",
    "    print(f\"The Moscow Times - {date_datetime.strftime('%A, %B %d, %Y')}\") # Wednesday, October 2, 2002\n",
    "    print(f\"The Guardian - {date_datetime.strftime('%A,  %m.%d.%Y')}\")# The Guardian - Friday, 11.10.13\n",
    "    print(f\"Daily News - {date_datetime.strftime('%A, %d %B %Y')}\")# Daily News - Thursday, 18 August 1977\n",
    "except:\n",
    "    print(\"Не верно введен формат даты!\")"
   ]
  },
  {
   "cell_type": "markdown",
   "id": "53fa061d-1d3c-434a-aa62-22d336ec0016",
   "metadata": {},
   "source": [
    "### Задание 2\n",
    "Дан поток дат в формате YYYY-MM-DD, в которых встречаются некорректные значения:\n",
    "stream = [‘2018-04-02’, ‘2018-02-29’, ‘2018-19-02’]\n",
    "\n",
    "Напишите функцию, которая проверяет эти даты на корректность. Т. е. для каждой даты возвращает True (дата корректна) или False (некорректная дата).\n",
    "\n"
   ]
  },
  {
   "cell_type": "code",
   "execution_count": 19,
   "id": "2e43ec06-7991-48f4-b08a-d1d6aeed0829",
   "metadata": {},
   "outputs": [
    {
     "name": "stdout",
     "output_type": "stream",
     "text": [
      "True\n",
      "False\n",
      "False\n",
      "True\n",
      "False\n",
      "False\n"
     ]
    }
   ],
   "source": [
    "from datetime import datetime \n",
    "\n",
    "stream = ['2018-04-02', '2018-02-29', '2018-19-02', '2018-02-28', '2018-12-32','02.04.2018',]\n",
    "\n",
    "def check_date(dat):\n",
    "    '''\n",
    "    функция, которая проверяет эти даты на корректность. \n",
    "    Для каждой даты возвращает True (дата корректна) или False (некорректная дата).\n",
    "    '''\n",
    "    try:\n",
    "        datetime.strptime(dat, '%Y-%m-%d')\n",
    "        x = True\n",
    "    except:\n",
    "        x = False\n",
    "    return x\n",
    "\n",
    "for el in stream:\n",
    "    print(check_date(el))\n",
    "\n"
   ]
  },
  {
   "cell_type": "markdown",
   "id": "1fd5bf2b-c86e-4611-baff-1ceded7a9d6c",
   "metadata": {},
   "source": [
    "### Задание 3\n",
    "Напишите функцию date_range, которая возвращает список дат за период от start_date до end_date. \n",
    "Даты должны вводиться в формате YYYY-MM-DD. В случае неверного формата или при start_date > end_date \n",
    "должен возвращаться пустой список.\n",
    "\n"
   ]
  },
  {
   "cell_type": "code",
   "execution_count": 13,
   "id": "021fb924-513c-4b43-ade3-4f073220c053",
   "metadata": {},
   "outputs": [
    {
     "name": "stdin",
     "output_type": "stream",
     "text": [
      "Введите дату начальную в формате YYYY-MM-DD 2018-01-01\n",
      "Введите дату конечную в формате YYYY-MM-DD 01.02.2022\n"
     ]
    },
    {
     "name": "stdout",
     "output_type": "stream",
     "text": [
      "[]\n"
     ]
    }
   ],
   "source": [
    "from datetime import timedelta\n",
    "from datetime import datetime \n",
    "\n",
    "def date_range(date1, date2):\n",
    "    list_date = []\n",
    "    try:\n",
    "        st_date = datetime.strptime(date1, '%Y-%m-%d')\n",
    "        end_date = datetime.strptime(date2, '%Y-%m-%d')\n",
    "        while st_date.strftime('%Y-%m-%d') <= end_date.strftime('%Y-%m-%d'):\n",
    "            list_date.append(st_date.strftime('%Y-%m-%d'))\n",
    "            st_date += timedelta(days = 1)\n",
    "        print(list_date)\n",
    "    except:\n",
    "        print(list_date)\n",
    "    return\n",
    "\n",
    "start_date = input(\"Введите дату начальную в формате YYYY-MM-DD\")\n",
    "end_date = input(\"Введите дату конечную в формате YYYY-MM-DD\")\n",
    "\n",
    "date_range(start_date, end_date)\n"
   ]
  },
  {
   "cell_type": "markdown",
   "id": "8f925612-f01e-43bb-acd0-1664dcf8be12",
   "metadata": {},
   "source": [
    "### Задание 4 (необязательное)\n",
    "Ваш коллега прислал код функции:\n",
    "\n",
    "DEFAULT_USER_COUNT = 3\n",
    "\n",
    "def delete_and_return_last_user(region, default_list=[‘A100’, ‘A101’, ‘A102’]):\n",
    "\"\"“\n",
    "Удаляет из списка default_list последнего пользователя\n",
    "и возвращает ID нового последнего пользователя.\n",
    "”\"\"\n",
    "element_to_delete = default_list[-1]\n",
    "default_list.remove(element_to_delete)\n",
    "\n",
    "1\n",
    "return default_list[DEFAULT_USER_COUNT-2]\n",
    "При однократном вызове этой функции все работает корректно:\n",
    "delete_and_return_last_user(1)\n",
    "‘A101’\n",
    "\n",
    "Однако, при повторном вызове получается ошибка IndexError: list index out of range.\n",
    "\n",
    "Задание:\n",
    "\n",
    "Что значит ошибка list index out of range?\n",
    "Почему при первом запуске функция работает корректно, а при втором - нет?\n"
   ]
  },
  {
   "cell_type": "markdown",
   "id": "e4226cf9-0d9f-454e-afaa-eb3247ab17a8",
   "metadata": {},
   "source": [
    "### Ответ:\n",
    "IndexError: list index out of range - Ошибка говорит что проблема с индексами, это значит что система обращается к индексу которого нет.\n",
    "А вот почему нет, из за того что в памяти осталась длина списку (DEFAULT_USER_COUNT = 3) хотя уже список стал на 1 меньше и последнего элемента просто нет."
   ]
  },
  {
   "cell_type": "markdown",
   "id": "5e379a61-268f-466e-a825-0c9d4c35c199",
   "metadata": {},
   "source": [
    "### Важно! замечание к заданию.\n",
    "\n",
    "**** Для зачета достаточно сделать три задания! (четвертое необязательное)****\n",
    "\n",
    "При копировании с сайта Нетологии Jupyter ноутбук изменяет кавычки ’ на `. Прошу учесть данный факт и обращать внимание.\n",
    "Достаточно просто заменить кавычки."
   ]
  }
 ],
 "metadata": {
  "kernelspec": {
   "display_name": "Python 3 (ipykernel)",
   "language": "python",
   "name": "python3"
  },
  "language_info": {
   "codemirror_mode": {
    "name": "ipython",
    "version": 3
   },
   "file_extension": ".py",
   "mimetype": "text/x-python",
   "name": "python",
   "nbconvert_exporter": "python",
   "pygments_lexer": "ipython3",
   "version": "3.9.12"
  }
 },
 "nbformat": 4,
 "nbformat_minor": 5
}
