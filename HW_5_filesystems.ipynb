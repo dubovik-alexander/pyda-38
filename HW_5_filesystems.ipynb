{
 "cells": [
  {
   "cell_type": "markdown",
   "id": "88352760-9243-4df5-b26f-a997f0aa2ddc",
   "metadata": {},
   "source": [
    "### Домашнее задание к лекции Работа с файловой системой и модули\n",
    "## Задание\n",
    "\n",
    "Переведите содержимое файла purchase_log.txt в словарь purchases вида:\n",
    "{‘1840e0b9d4’: ‘Продукты’, …}\n",
    "\n",
    "Для каждого user_id в файле visit_log.csv определите третий столбец с категорией покупки (если покупка была, сам файл visit_log.csv изменять не надо). \n",
    "\n",
    "Запишите в файл funnel.csv визиты из файла visit_log.csv, в которых были покупки с указанием категории.\n",
    "\n",
    "Учтите условия на данные:\n",
    "содержимое purchase_log.txt помещается в оперативную память компьютера\n",
    "\n",
    "содержимое visit_log.csv - нет; используйте только построчную обработку этого файлаv"
   ]
  },
  {
   "cell_type": "code",
   "execution_count": 59,
   "id": "de22a226-5e7c-412e-99a6-70cf3b89a50f",
   "metadata": {},
   "outputs": [],
   "source": [
    "import json"
   ]
  },
  {
   "cell_type": "code",
   "execution_count": null,
   "id": "792fe795-31d1-4318-8559-534b332d5612",
   "metadata": {},
   "outputs": [],
   "source": []
  },
  {
   "cell_type": "code",
   "execution_count": 60,
   "id": "05ab428c-2b13-4840-9937-e19aad1cdd71",
   "metadata": {},
   "outputs": [],
   "source": [
    "# purchase_log.txt помещаем в оперативную память компьютера\n",
    "#with open('purchase_log.txt', 'r', encoding='utf-8') as f:\n",
    "\n",
    "\n",
    "file_data = open('purchase_log.txt', 'r', encoding='utf-8')\n",
    "f = file_data.readlines()\n"
   ]
  },
  {
   "cell_type": "code",
   "execution_count": 61,
   "id": "5c0b3469-0bab-4c66-8cb7-74d9f6163fba",
   "metadata": {},
   "outputs": [],
   "source": [
    "pur_log = {}\n"
   ]
  },
  {
   "cell_type": "code",
   "execution_count": 62,
   "id": "73f5f0f2-361f-4bd1-bb1e-7cc80fb8d32d",
   "metadata": {},
   "outputs": [],
   "source": [
    "from functools import reduce\n",
    "i = 1\n",
    "# создаем словарь где ключ это данные из userid и value это значение из катеогрии\n",
    "for line in f:\n",
    "    line = line.strip()\n",
    "    dict_ = json.loads(line)\n",
    "    list_dic = list(dict_.values())\n",
    "    last_el = reduce(lambda key, value: {value: key}, reversed(list_dic))\n",
    "    # print(last_el)\n",
    "    pur_log.update(last_el)\n",
    "    # i += 1\n",
    "    # if i > 10:  \n",
    "    #     break\n",
    "\n",
    "del pur_log['user_id']\n",
    "\n",
    "\n",
    "#print(pur_log, type(pur_log))\n"
   ]
  },
  {
   "cell_type": "code",
   "execution_count": null,
   "id": "574cd1f2-6214-44c7-aacf-1a6868e60656",
   "metadata": {},
   "outputs": [],
   "source": [
    "g = 0\n",
    "dic_el = {}\n",
    "#fin_data = ()\n",
    "\n",
    "#файйл с визитами\n",
    "with open('visit_log.csv', 'r', encoding='utf-8') as vis:\n",
    "    for line2 in vis:\n",
    "        line2 = line2.strip().split(',')\n",
    "        dic_el = reduce(lambda key, value: {value: key}, reversed(line2)) #создаем справочник\n",
    "       # vis_log.update(dic_el) \n",
    "        for key1, value1 in dic_el.items(): \n",
    "            for key2, value2 in pur_log.items():\n",
    "                if key1 == key2:\n",
    "                    fin_data = (f'{(key1, value1, value2)}\\n')\n",
    "                    #print(fin_data)\n",
    "                    with open('funnel.csv', 'a', encoding='utf-8') as fin:\n",
    "                        fin.write(fin_data)\n",
    "                        \n",
    "        #print(dic_el)\n",
    "        # g += 1\n",
    "        # if g > 100:\n",
    "        #     break\n",
    "        \n",
    "\n",
    "# del vis_log['user_id']\n",
    "# print(vis_log)"
   ]
  }
 ],
 "metadata": {
  "kernelspec": {
   "display_name": "Python 3 (ipykernel)",
   "language": "python",
   "name": "python3"
  },
  "language_info": {
   "codemirror_mode": {
    "name": "ipython",
    "version": 3
   },
   "file_extension": ".py",
   "mimetype": "text/x-python",
   "name": "python",
   "nbconvert_exporter": "python",
   "pygments_lexer": "ipython3",
   "version": "3.9.12"
  }
 },
 "nbformat": 4,
 "nbformat_minor": 5
}
