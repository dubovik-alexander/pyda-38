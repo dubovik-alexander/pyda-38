{
  "nbformat": 4,
  "nbformat_minor": 0,
  "metadata": {
    "colab": {
      "provenance": [],
      "collapsed_sections": [],
      "include_colab_link": true
    },
    "kernelspec": {
      "name": "python3",
      "display_name": "Python 3"
    },
    "language_info": {
      "name": "python"
    }
  },
  "cells": [
    {
      "cell_type": "markdown",
      "metadata": {
        "id": "view-in-github",
        "colab_type": "text"
      },
      "source": [
        "<a href=\"https://colab.research.google.com/github/dubovik-alexander/pyda-38/blob/main/netology_practice_3_07_10_22.ipynb\" target=\"_parent\"><img src=\"https://colab.research.google.com/assets/colab-badge.svg\" alt=\"Open In Colab\"/></a>"
      ]
    },
    {
      "cell_type": "markdown",
      "metadata": {
        "id": "edQI-m-cCgpV"
      },
      "source": [
        "# Практика 3\n",
        "Теория: Функции\n",
        "\n",
        "Булыгин Олег:  \n",
        "* [LinkedIn](linkedin.com/in/obulygin)  \n",
        "* [Мой канал в ТГ по Python](https://t.me/pythontalk_ru)"
      ]
    },
    {
      "cell_type": "markdown",
      "metadata": {
        "id": "U72FhsNpDhxX"
      },
      "source": [
        "\n",
        "\n",
        "1.   Вспомним args\n",
        "2.   Вспомним lambda-функции и посмотрим на итераторы\n",
        "3.   Напишем программу в процедурном стиле на основе функций\n",
        "\n",
        "\n"
      ]
    },
    {
      "cell_type": "markdown",
      "metadata": {
        "id": "XOY7VKI357LA"
      },
      "source": [
        "### Практика. Напишем функцию, которая определяет является ли слово палиндромом\n",
        "\n",
        "Пример работы программы:\n",
        "```\n",
        "print(is_palindrom('Радар'))\n",
        "True\n",
        "```\n",
        "\n",
        "```\n",
        "print(is_palindrom('строка'))\n",
        "False\n",
        "```"
      ]
    },
    {
      "cell_type": "code",
      "metadata": {
        "id": "TL8qWkEI6mLE"
      },
      "source": [
        "def is_palindrom(some_string): \n",
        "    some_string = some_string.lower()\n",
        "    return some_string[::-1] == some_string\n",
        "\n",
        "is_palindrom('rtjrtetsk')"
      ],
      "execution_count": null,
      "outputs": []
    },
    {
      "cell_type": "code",
      "source": [
        "some_str = 'Hello world'\n",
        "\n",
        "some_str[::-1]"
      ],
      "metadata": {
        "colab": {
          "base_uri": "https://localhost:8080/",
          "height": 35
        },
        "id": "3vzL4u_wbLOT",
        "outputId": "ca217be7-ce6d-47ca-bb8a-d67db30590ee"
      },
      "execution_count": null,
      "outputs": [
        {
          "output_type": "execute_result",
          "data": {
            "text/plain": [
              "'dlrow olleH'"
            ],
            "application/vnd.google.colaboratory.intrinsic+json": {
              "type": "string"
            }
          },
          "metadata": {},
          "execution_count": 49
        }
      ]
    },
    {
      "cell_type": "markdown",
      "metadata": {
        "id": "BF7EhPbcSVBV"
      },
      "source": [
        "## args and kwargs\n",
        "Иногда возникает ситуация, когда вы заранее не знаете, какое количество аргументов будет необходимо принять функции. В этом случае следует использовать аргументы произвольной длины ([args и kwargs](https://habr.com/ru/company/ruvds/blog/482464/)). Они задаются произвольным именем переменной, перед которой ставится звездочка (args) или две здездочки (kwargs)."
      ]
    },
    {
      "cell_type": "code",
      "metadata": {
        "id": "ilXaysWUawBT",
        "colab": {
          "base_uri": "https://localhost:8080/"
        },
        "outputId": "3c4d2daf-6866-4adf-d2d1-e1d372bd35f0"
      },
      "source": [
        "# Сумму всех позиционных аргументов вычисляем с помощью sum\n",
        "# *args упаковывает все позиционные аргументы в кортеж\n",
        "# **kwargs упаковывает все именованные аргументы в словарь, из которого получаем значение по ключу\n",
        "\n",
        "def sum_division(*args, **kwargs):\n",
        "    print(args)\n",
        "    print(kwargs)\n",
        "    return round(sum(args) / kwargs['divisor'], kwargs['accuracy'])\n",
        "\n",
        "print(sum_division(1, 2, 3, 4, 5, 6, 7, 8,'dhdh', [34646], {5}, 5445745, 10, divisor=7, accuracy=2))"
      ],
      "execution_count": null,
      "outputs": [
        {
          "output_type": "stream",
          "name": "stdout",
          "text": [
            "(1, 2, 3, 4, 5, 6, 7, 8, 'dhdh', [34646], {5}, 5445745, 10)\n",
            "{'divisor': 7, 'accuracy': 2}\n",
            "None\n"
          ]
        }
      ]
    },
    {
      "cell_type": "code",
      "source": [
        "sum((346, 346, 436, 'sdgsdg'))"
      ],
      "metadata": {
        "colab": {
          "base_uri": "https://localhost:8080/",
          "height": 165
        },
        "id": "YPGooUR8co8J",
        "outputId": "86e8e263-e3bc-4fd3-ef59-982c49e61cfe"
      },
      "execution_count": null,
      "outputs": [
        {
          "output_type": "error",
          "ename": "TypeError",
          "evalue": "ignored",
          "traceback": [
            "\u001b[0;31m---------------------------------------------------------------------------\u001b[0m",
            "\u001b[0;31mTypeError\u001b[0m                                 Traceback (most recent call last)",
            "\u001b[0;32m<ipython-input-10-c3b46170c0c3>\u001b[0m in \u001b[0;36m<module>\u001b[0;34m\u001b[0m\n\u001b[0;32m----> 1\u001b[0;31m \u001b[0msum\u001b[0m\u001b[0;34m(\u001b[0m\u001b[0;34m(\u001b[0m\u001b[0;36m346\u001b[0m\u001b[0;34m,\u001b[0m \u001b[0;36m346\u001b[0m\u001b[0;34m,\u001b[0m \u001b[0;36m436\u001b[0m\u001b[0;34m,\u001b[0m \u001b[0;34m'sdgsdg'\u001b[0m\u001b[0;34m)\u001b[0m\u001b[0;34m)\u001b[0m\u001b[0;34m\u001b[0m\u001b[0;34m\u001b[0m\u001b[0m\n\u001b[0m",
            "\u001b[0;31mTypeError\u001b[0m: unsupported operand type(s) for +: 'int' and 'str'"
          ]
        }
      ]
    },
    {
      "cell_type": "code",
      "metadata": {
        "id": "9XSfxweRawBT",
        "colab": {
          "base_uri": "https://localhost:8080/"
        },
        "outputId": "6351c3f4-9cc8-47b2-d2ab-dd2d8b7e1998"
      },
      "source": [
        "# распаковка позволяет отделить создание списка аргументов от их передачи в функцию\n",
        "numbers = [1, 2, 3, 4, 5, 6, 7, 8, 9, 10]\n",
        "params = {'divisor':7,'accuracy':2}\n",
        "\n",
        "print(sum_division(*numbers, **params))"
      ],
      "execution_count": null,
      "outputs": [
        {
          "output_type": "stream",
          "name": "stdout",
          "text": [
            "(1, 2, 3, 4, 5, 6, 7, 8, 9, 10)\n",
            "{'divisor': 7, 'accuracy': 2}\n",
            "None\n"
          ]
        }
      ]
    },
    {
      "cell_type": "markdown",
      "metadata": {
        "id": "6GGM5SzuRYl3"
      },
      "source": [
        "Напишем функцию, которая будет находить среднюю цену квартиры по всем переданным в нее районам города"
      ]
    },
    {
      "cell_type": "code",
      "metadata": {
        "id": "CRljX_0tRexA"
      },
      "source": [
        "district_1 = {'flat_1': 10500, 'flat_2': 11000}\n",
        "district_2 = {'flat_3': 15000}\n",
        "district_3 = {'flat_4': 6500, 'flat_5': 7000, 'flat_6': 6000}   "
      ],
      "execution_count": null,
      "outputs": []
    },
    {
      "cell_type": "code",
      "source": [
        "def ave_price(*distrcits):\n",
        "    cost = 0\n",
        "    count = 0\n",
        "    for district in distrcits:\n",
        "        cost += sum(district.values())\n",
        "        count += len(district.values())\n",
        "    return cost / count\n",
        "\n",
        "ave_price(district_1, district_2, district_3)"
      ],
      "metadata": {
        "colab": {
          "base_uri": "https://localhost:8080/"
        },
        "id": "-kHAndJMdy25",
        "outputId": "d550912a-9b76-450d-ef09-490a2d6781d3"
      },
      "execution_count": null,
      "outputs": [
        {
          "output_type": "execute_result",
          "data": {
            "text/plain": [
              "9333.333333333334"
            ]
          },
          "metadata": {},
          "execution_count": 17
        }
      ]
    },
    {
      "cell_type": "code",
      "source": [
        "district_1 = {'flat_1': 10500, 'flat_2': 11000}\n",
        "district_2 = {'flat_1': 15000}\n",
        "district_3 = {'flat_4': 6500, 'flat_5': 7000, 'flat_6': 6000}\n",
        "# def check_data(*distrcits):\n",
        "#     res = []\n",
        "#     for distrcit in distrcits:\n",
        "#         res += list(distrcit.keys())\n",
        "#     return len(res) == len(set(res))\n",
        "    \n",
        "# check_data(district_1, district_2)\n",
        "\n",
        "def ave_price(districts):\n",
        "    return sum(districts.values()) / len(districts.values())\n",
        "\n",
        "ave_price({**district_1, **district_2, **district_3})"
      ],
      "metadata": {
        "colab": {
          "base_uri": "https://localhost:8080/"
        },
        "id": "BtquioXYdy-M",
        "outputId": "8caddbfd-67cc-4aa1-9fbc-4024a2132523"
      },
      "execution_count": null,
      "outputs": [
        {
          "output_type": "execute_result",
          "data": {
            "text/plain": [
              "False"
            ]
          },
          "metadata": {},
          "execution_count": 23
        }
      ]
    },
    {
      "cell_type": "markdown",
      "metadata": {
        "id": "_mY3dvurRsd4"
      },
      "source": [
        "## Комплексный пример"
      ]
    },
    {
      "cell_type": "code",
      "metadata": {
        "id": "OPd5-8lVRuL5"
      },
      "source": [
        "students_list = [\n",
        "    {\"name\": \"Василий\", \"surname\": \"Теркин\", \"gender\": \"м\", \"program_exp\": True, \"grade\": [8, 8, 9, 10], \"exam\": 8},\n",
        "    {\"name\": \"Мария\", \"surname\": \"Павлова\", \"gender\": \"ж\", \"program_exp\": True, \"grade\": [7, 8, 9, 7, 9], \"exam\": 9},\n",
        "    {\"name\": \"Ирина\", \"surname\": \"Андреева\", \"gender\": \"ж\", \"program_exp\": False, \"grade\": [10, 9, 8, 10], \"exam\": 7},\n",
        "    {\"name\": \"Татьяна\", \"surname\": \"Сидорова\", \"gender\": \"ж\", \"program_exp\": False, \"grade\": [7, 8, 8, 9, 8],\"exam\": 10},\n",
        "    {\"name\": \"Иван\", \"surname\": \"Васильев\", \"gender\": \"м\", \"program_exp\": True, \"grade\": [9, 8, 9, 6, 9, 4], \"exam\": 5},\n",
        "    {\"name\": \"Роман\", \"surname\": \"Золотарев\", \"gender\": \"м\", \"program_exp\": False, \"grade\": [8, 9, 9, 6, 9], \"exam\": 6}\n",
        "]"
      ],
      "execution_count": null,
      "outputs": []
    },
    {
      "cell_type": "code",
      "source": [
        "def get_avg_hw_grade(students):\n",
        "    sum_hw = 0\n",
        "    for student in students:\n",
        "        sum_hw += sum(student['grade']) / len(student['grade'])\n",
        "    return round(sum_hw / len(students), 2)\n",
        "\n",
        "print(get_avg_hw_grade(students_list))"
      ],
      "metadata": {
        "colab": {
          "base_uri": "https://localhost:8080/"
        },
        "id": "78aQfG4Xga2q",
        "outputId": "9f09cdfc-1afa-400b-dc71-6789c502e53d"
      },
      "execution_count": null,
      "outputs": [
        {
          "output_type": "stream",
          "name": "stdout",
          "text": [
            "8.28\n"
          ]
        }
      ]
    },
    {
      "cell_type": "code",
      "source": [
        "def filter_students(students, exp=None, gender=None):\n",
        "    condition = lambda student: (student['gender'] == gender or gender is None) and \\\n",
        "                                (student['program_exp'] == exp or exp is None)\n",
        "    return list(filter(condition, students))\n",
        "    \n",
        "def get_avg_ex_grade(students):\n",
        "    sum_ex = 0\n",
        "    for student in students:\n",
        "        sum_ex += student['exam']\n",
        "    res = round(sum_ex / len(students), 2)\n",
        "    if res < 5:\n",
        "        return f'Не успевают. Средний балл: {res}'\n",
        "    else:\n",
        "        return f'Успевают. Средний балл: {res}'\n",
        "print(get_avg_ex_grade(filter_students(students_list, True)))\n",
        "\n",
        "\n",
        "def get_avg_ex_grade(students, gender=None, exp=None):\n",
        "    sum_ex = 0\n",
        "    counter = 0\n",
        "    for student in students:\n",
        "        if (student['gender'] == gender or gender is None) and \\\n",
        "           (student['program_exp'] == exp or exp is None):\n",
        "            sum_ex += student['exam']\n",
        "            counter += 1\n",
        "    res = round(sum_ex / counter, 2)\n",
        "    if res < 5:\n",
        "        return f'Не успевают. Средний балл: {res}'\n",
        "    else:\n",
        "        return f'Успевают. Средний балл: {res}'\n",
        "\n",
        "# print(get_avg_ex_grade(students_list))\n",
        "# print(get_avg_ex_grade(students_list, 'ж'))\n",
        "# print(get_avg_ex_grade(students_list, 'м'))\n",
        "# print(get_avg_ex_grade(students_list, 'ж', True))\n",
        "# print(get_avg_ex_grade(students_list, 'м', False))\n",
        "# print(get_avg_ex_grade(students_list, exp=False))"
      ],
      "metadata": {
        "colab": {
          "base_uri": "https://localhost:8080/"
        },
        "id": "LUR0yPfCga5T",
        "outputId": "b6e09a58-bb87-4d23-801a-5e9de8676c7f"
      },
      "execution_count": null,
      "outputs": [
        {
          "output_type": "stream",
          "name": "stdout",
          "text": [
            "Успевают. Средний балл: 7.33\n"
          ]
        }
      ]
    },
    {
      "cell_type": "code",
      "source": [
        "def sort_students(students):\n",
        "    sorted_students = sorted(students, key=lambda student: student['exam'], reverse=True)\n",
        "    for i, student in enumerate(sorted_students):\n",
        "        print(f'{i+1}. {student[\"name\"]} {student[\"surname\"]}')\n",
        "\n",
        "sort_students(students_list)"
      ],
      "metadata": {
        "colab": {
          "base_uri": "https://localhost:8080/"
        },
        "id": "dKh0k1BjmsEk",
        "outputId": "6055ca3a-c7f5-47f9-a90f-de2fade4a3c6"
      },
      "execution_count": null,
      "outputs": [
        {
          "output_type": "stream",
          "name": "stdout",
          "text": [
            "1. Татьяна Сидорова\n",
            "2. Мария Павлова\n",
            "3. Василий Теркин\n",
            "4. Ирина Андреева\n",
            "5. Роман Золотарев\n",
            "6. Иван Васильев\n"
          ]
        }
      ]
    },
    {
      "cell_type": "code",
      "source": [
        "def main(students):\n",
        "    while True:\n",
        "        user_cmd = input('Введите команду')\n",
        "        if user_cmd == '1':\n",
        "            print(get_avg_hw_grade(students))\n",
        "        elif user_cmd == '2':\n",
        "            print(get_avg_ex_grade(students, 'ж'))\n",
        "        elif user_cmd == '3':\n",
        "            print(get_avg_ex_grade(students, exp=False))\n",
        "        elif user_cmd == '4':\n",
        "            sort_students(students)\n",
        "        elif user_cmd == 'q':\n",
        "            print('Выход')\n",
        "            break\n",
        "main(students_list)"
      ],
      "metadata": {
        "colab": {
          "base_uri": "https://localhost:8080/"
        },
        "id": "35lm7M9NpSBQ",
        "outputId": "9ad80aa1-a591-4566-dc5a-81ef86434602"
      },
      "execution_count": null,
      "outputs": [
        {
          "output_type": "stream",
          "name": "stdout",
          "text": [
            "Введите команду34\n",
            "Введите командуq\n",
            "Выход\n"
          ]
        }
      ]
    },
    {
      "cell_type": "code",
      "source": [
        "?sorted"
      ],
      "metadata": {
        "id": "2h7uhnf1nfZw"
      },
      "execution_count": null,
      "outputs": []
    },
    {
      "cell_type": "code",
      "source": [
        "a = [1, 2, 3]\n",
        "b = a\n",
        "\n",
        "b.append(4)\n",
        "\n",
        "print(a is b)"
      ],
      "metadata": {
        "colab": {
          "base_uri": "https://localhost:8080/"
        },
        "id": "VjrcJdhRlc8L",
        "outputId": "c301e37f-e957-4148-cce3-49c4b3fbf955"
      },
      "execution_count": null,
      "outputs": [
        {
          "output_type": "stream",
          "name": "stdout",
          "text": [
            "True\n"
          ]
        }
      ]
    },
    {
      "cell_type": "code",
      "source": [
        "print(id(b))\n",
        "print(id(a))"
      ],
      "metadata": {
        "colab": {
          "base_uri": "https://localhost:8080/"
        },
        "id": "Ga6cwri8lk2w",
        "outputId": "0561ddd6-cdc2-440a-960c-932b47001411"
      },
      "execution_count": null,
      "outputs": [
        {
          "output_type": "stream",
          "name": "stdout",
          "text": [
            "140109480190192\n",
            "140109480721376\n"
          ]
        }
      ]
    },
    {
      "cell_type": "markdown",
      "metadata": {
        "id": "mgMjftejd7Ph"
      },
      "source": [
        "## Анонимные функции, функции map и filter\n",
        "\n",
        "[Анонимные функции](https://habr.com/ru/post/507642/) создаются при помощи инструкции lambda и используются для более краткой записи функций с одним выражением. Выполняются быстрее обычных и не требуют инструкции return."
      ]
    },
    {
      "cell_type": "markdown",
      "metadata": {
        "id": "hvVaGxqS7P9Z"
      },
      "source": [
        "Отсортируем словарь"
      ]
    },
    {
      "cell_type": "code",
      "metadata": {
        "id": "49SDXEYuOREp"
      },
      "source": [
        "my_dict = {\n",
        "    'id1': 654321, \n",
        "    'id2': 123456, \n",
        "    'id3': 777777\n",
        "}"
      ],
      "execution_count": null,
      "outputs": []
    },
    {
      "cell_type": "code",
      "metadata": {
        "id": "3lsPYgCxQRYi"
      },
      "source": [],
      "execution_count": null,
      "outputs": []
    },
    {
      "cell_type": "markdown",
      "metadata": {
        "id": "1whxQleKMlLv"
      },
      "source": [
        "Получим список из средних цен в каждой категории товаров"
      ]
    },
    {
      "cell_type": "code",
      "metadata": {
        "id": "xZTL8aTPMNEE"
      },
      "source": [
        "prices_by_categories = [[100, 200, 400, 600], [200, 500], [100, 200, 100, 100], [800, 900]]"
      ],
      "execution_count": null,
      "outputs": []
    },
    {
      "cell_type": "code",
      "metadata": {
        "colab": {
          "base_uri": "https://localhost:8080/"
        },
        "id": "m1DA5YEIMxw3",
        "outputId": "582787dc-83bb-4bbb-f523-cc9387a64bf4"
      },
      "source": [
        "def get_avg_prices(prices):\n",
        "    mean_prices = []\n",
        "    for category in prices:\n",
        "        mean_prices.append(sum(category) / len(category))\n",
        "    return mean_prices\n",
        "\n",
        "print(get_avg_prices(prices_by_categories))"
      ],
      "execution_count": null,
      "outputs": [
        {
          "output_type": "stream",
          "name": "stdout",
          "text": [
            "[325.0, 350.0, 125.0, 850.0]\n"
          ]
        }
      ]
    },
    {
      "cell_type": "code",
      "metadata": {
        "id": "zWKy77kXQaTT",
        "colab": {
          "base_uri": "https://localhost:8080/"
        },
        "outputId": "c5f281c2-5195-4ffa-9013-76e42cab7f4b"
      },
      "source": [
        "[sum(category) / len(category) for category in prices_by_categories]"
      ],
      "execution_count": null,
      "outputs": [
        {
          "output_type": "execute_result",
          "data": {
            "text/plain": [
              "[325.0, 350.0, 125.0, 850.0]"
            ]
          },
          "metadata": {},
          "execution_count": 52
        }
      ]
    },
    {
      "cell_type": "code",
      "source": [
        "list(map(lambda category: sum(category) / len(category), prices_by_categories))"
      ],
      "metadata": {
        "colab": {
          "base_uri": "https://localhost:8080/"
        },
        "id": "cOkoYlKsrPDL",
        "outputId": "13b2c617-0e09-49d2-d1d4-07c0fb1af21b"
      },
      "execution_count": null,
      "outputs": [
        {
          "output_type": "execute_result",
          "data": {
            "text/plain": [
              "[325.0, 350.0, 125.0, 850.0]"
            ]
          },
          "metadata": {},
          "execution_count": 53
        }
      ]
    },
    {
      "cell_type": "markdown",
      "metadata": {
        "id": "yH-gS2ATQesE"
      },
      "source": [
        "Решим задачу с фильтрацией структуры по гордам без цикла"
      ]
    },
    {
      "cell_type": "code",
      "metadata": {
        "id": "EBLHeZpvQnFZ"
      },
      "source": [
        "geo_logs = [\n",
        "    {'visit1': ['Москва', 'Россия']},\n",
        "    {'visit2': ['Дели', 'Индия']},\n",
        "    {'visit3': ['Владимир', 'Россия']},\n",
        "    {'visit4': ['Лиссабон', 'Португалия']},\n",
        "    {'visit5': ['Париж', 'Франция']},\n",
        "    {'visit7': ['Тула', 'Россия']},\n",
        "    {'visit9': ['Курск', 'Россия']},\n",
        "    {'visit10': ['Архангельск', 'Россия']}\n",
        "]"
      ],
      "execution_count": null,
      "outputs": []
    },
    {
      "cell_type": "code",
      "metadata": {
        "id": "DaRAQ3R1QsP1",
        "colab": {
          "base_uri": "https://localhost:8080/"
        },
        "outputId": "0f620905-dfa3-4a28-da4a-ef3cd6174c09"
      },
      "source": [
        "result = []\n",
        "for log in geo_logs:\n",
        "    if 'Россия' in list(log.values())[0]:\n",
        "        result.append(log)\n",
        "        \n",
        "print(result)"
      ],
      "execution_count": null,
      "outputs": [
        {
          "output_type": "stream",
          "name": "stdout",
          "text": [
            "[{'visit1': ['Москва', 'Россия']}, {'visit3': ['Владимир', 'Россия']}, {'visit7': ['Тула', 'Россия']}, {'visit9': ['Курск', 'Россия']}, {'visit10': ['Архангельск', 'Россия']}]\n"
          ]
        }
      ]
    },
    {
      "cell_type": "code",
      "metadata": {
        "id": "69ru-aTZQu8j",
        "colab": {
          "base_uri": "https://localhost:8080/"
        },
        "outputId": "fcff8093-1d17-47a8-b48b-20150c6820ff"
      },
      "source": [
        "list(filter(lambda log: 'Россия' in list(log.values())[0], geo_logs))"
      ],
      "execution_count": null,
      "outputs": [
        {
          "output_type": "execute_result",
          "data": {
            "text/plain": [
              "[{'visit1': ['Москва', 'Россия']},\n",
              " {'visit3': ['Владимир', 'Россия']},\n",
              " {'visit7': ['Тула', 'Россия']},\n",
              " {'visit9': ['Курск', 'Россия']},\n",
              " {'visit10': ['Архангельск', 'Россия']}]"
            ]
          },
          "metadata": {},
          "execution_count": 58
        }
      ]
    },
    {
      "cell_type": "markdown",
      "metadata": {
        "id": "ONpdieq_fpaF"
      },
      "source": [
        "## Цикл / рекурсия / reduce ?\n",
        "\n",
        "Напишем функцию, преобразующую произвольный список вида `['2018-01-01', 'yandex', 'cpc', 100]` (он может быть любой длины) в словарь `{'2018-01-01': {'yandex': {'cpc': 100}}}`"
      ]
    },
    {
      "cell_type": "code",
      "metadata": {
        "id": "GEn97dBdfxx_"
      },
      "source": [
        "some_list = ['2018-01-01', 'yandex', 'cpc', 100]"
      ],
      "execution_count": null,
      "outputs": []
    },
    {
      "cell_type": "code",
      "metadata": {
        "colab": {
          "base_uri": "https://localhost:8080/"
        },
        "id": "tpi4nSM-gLOh",
        "outputId": "cd06570b-795f-4e50-88a3-5a80d6fe4018"
      },
      "source": [
        "def get_dict(some_list):\n",
        "    res = some_list[-1]\n",
        "    for el in reversed(some_list[:-1]):\n",
        "        res = {el: res}\n",
        "    return res\n",
        "get_dict(some_list)\n",
        "\n",
        "\n",
        "\n",
        "\n",
        "\n"
      ],
      "execution_count": null,
      "outputs": [
        {
          "output_type": "execute_result",
          "data": {
            "text/plain": [
              "{'2018-01-01': {'yandex': {'cpc': 100}}}"
            ]
          },
          "metadata": {},
          "execution_count": 61
        }
      ]
    },
    {
      "cell_type": "code",
      "source": [
        "def ged_dict_rec(some_list):\n",
        "    if len(some_list) == 1:\n",
        "        return some_list[0]\n",
        "    return {some_list[0]:ged_dict_rec(some_list[1:])}\n",
        "\n",
        "ged_dict_rec(some_list)\n"
      ],
      "metadata": {
        "colab": {
          "base_uri": "https://localhost:8080/"
        },
        "id": "zcp2cwsculUt",
        "outputId": "9834e304-7fae-41cf-8470-da0ef2d58489"
      },
      "execution_count": null,
      "outputs": [
        {
          "output_type": "execute_result",
          "data": {
            "text/plain": [
              "{'2018-01-01': {'yandex': {'cpc': 100}}}"
            ]
          },
          "metadata": {},
          "execution_count": 62
        }
      ]
    },
    {
      "cell_type": "code",
      "source": [
        "from functools import reduce\n",
        "\n",
        "reduce(lambda x,y: x*y, [1, 23, 4, 5, 5656, 7])\n",
        "\n",
        "some_list = ['2018-01-01', 'yandex', 'cpc', 100]\n",
        "def get_dict(some_list):\n",
        "    res = some_list[-1]\n",
        "    for el in reversed(some_list[:-1]):\n",
        "        res = {el: res}\n",
        "    return res\n",
        "get_dict(some_list)\n",
        "\n",
        "reduce(lambda key, value: {value: key}, reversed(some_list))"
      ],
      "metadata": {
        "colab": {
          "base_uri": "https://localhost:8080/"
        },
        "id": "yKkTZW7jvY1i",
        "outputId": "6396abc9-f42c-4691-93e9-a1801230ff46"
      },
      "execution_count": null,
      "outputs": [
        {
          "output_type": "execute_result",
          "data": {
            "text/plain": [
              "{'2018-01-01': {'yandex': {'cpc': 100}}}"
            ]
          },
          "metadata": {},
          "execution_count": 64
        }
      ]
    },
    {
      "cell_type": "markdown",
      "metadata": {
        "id": "D2RHLDZREpo4"
      },
      "source": [
        "## Ваши вопросы"
      ]
    },
    {
      "cell_type": "code",
      "metadata": {
        "id": "8CdShv8BSV3A"
      },
      "source": [],
      "execution_count": null,
      "outputs": []
    },
    {
      "cell_type": "code",
      "metadata": {
        "id": "idXHoa_6Eqml"
      },
      "source": [],
      "execution_count": null,
      "outputs": []
    }
  ]
}