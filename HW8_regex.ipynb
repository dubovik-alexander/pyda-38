{
 "cells": [
  {
   "cell_type": "markdown",
   "id": "22a6b199-ccbb-41a5-9744-59fb4f61e201",
   "metadata": {},
   "source": [
    "## Домашнее задание к лекции «Регулярные выражения и основы синтаксического разбора»\n",
    "\n",
    "#### Вопросы по заданию\n",
    "Внимание! При реализации всех заданий необходимо использовать именно функционал регулярных выражений для обработки текста."
   ]
  },
  {
   "cell_type": "markdown",
   "id": "7dabcd22-77cb-48ca-8736-d6ec4824ab48",
   "metadata": {},
   "source": [
    "### Задание 1\n",
    "Напишите функцию, которая принимает на вход строку и проверяет является ли она валидным транспортным номером (1 буква, 3 цифры, 2 буквы, 2-3 цифры). Обратите внимание, что не все буквы кириллического алфавита используются в транспортных номерах.\n",
    "\n",
    "Если номер валиден, то функция должна возвращать отдельно номер и регион.\n",
    "\n",
    "Примеры работы программы:\n",
    "\n",
    "car_id = 'А222ВС96'\n",
    "Результат: Номер A222BС валиден. Регион: 96\n",
    "\n",
    "car_id = 'АБ22ВВ193'\n",
    "Результат: Номер не валиден"
   ]
  },
  {
   "cell_type": "code",
   "execution_count": 297,
   "id": "ccbf8635-47cf-4d59-8be8-bb844896273e",
   "metadata": {},
   "outputs": [],
   "source": [
    "import re"
   ]
  },
  {
   "cell_type": "code",
   "execution_count": 56,
   "id": "86ab9d4f-3cee-44fe-8caf-04ecef3e50f2",
   "metadata": {},
   "outputs": [],
   "source": [
    "АВЕКМНОРСТУХ # возможные буквы русского языка\n",
    "ABCHKMOPKTXY # возможные буквы английского языка"
   ]
  },
  {
   "cell_type": "code",
   "execution_count": 139,
   "id": "a9858fe3-f0c0-43ad-8670-1b235f4e1901",
   "metadata": {},
   "outputs": [
    {
     "name": "stdin",
     "output_type": "stream",
     "text": [
      "Введите номер транспортного средства в формате Х111ХХ11(1) as45df77\n"
     ]
    },
    {
     "name": "stdout",
     "output_type": "stream",
     "text": [
      "car_id = 'AS45DF77' Результат: Номер не валиден\n"
     ]
    }
   ],
   "source": [
    "car_id = str.upper(input(\"Введите номер транспортного средства в формате Х111ХХ11(1)\")) \n",
    "# на случай забывчивости импутера решил сделать все заглавными \n",
    "# car_id = 'Р235АМ23'\n",
    "\n",
    "pattern_id = r'([АВЕКМНОРСТУХABCHKMOPKTXY]{1})(\\d{3})([АВЕКМНОРСТУХABCHKMOPKTXY]{2})(\\d{2,3})' # разбиваем на части (скобочные группы)\n",
    "if re.match(pattern_id, car_id): # проверяем что все введено верно и нет ошибок вводе\n",
    "    result = re.search(pattern_id, car_id) # для выводы ищем группы и в выводе объеденяем в соответсвии с условием\n",
    "    print(f\"car_id = '{car_id}'  Результат: Номер {result.group(1) + result.group(2) + result.group(3)} валиден. Регион: {result.group(4)}\") \n",
    "else: \n",
    "    print(f\"car_id = '{car_id}\\' Результат: Номер не валиден\")"
   ]
  },
  {
   "cell_type": "markdown",
   "id": "5ff36030-638f-46b0-962c-900e5557450e",
   "metadata": {},
   "source": [
    "### Задание 2\n",
    "Напишите функцию, которая будет удалять все последовательные повторы слов из заданной строки при помощи регулярных выражений.\n",
    "\n",
    "Пример работы программы:\n",
    "\n",
    "some_string = 'Напишите функцию функцию, которая будет будет будет будет удалять все все все все последовательные повторы слов из из из из заданной строки строки при помощи регулярных выражений.'\n",
    "\n",
    "Результат:\n",
    "Напишите функцию, которая будет удалять все последовательные повторы слов из заданной строки при помощи регулярных выражений."
   ]
  },
  {
   "cell_type": "code",
   "execution_count": 143,
   "id": "88e2c079-479b-451c-9533-f886216b85eb",
   "metadata": {},
   "outputs": [],
   "source": [
    "some_string = \"Напишите функцию функцию, которая будет будет будет будет удалять все все все все последовательные повторы слов из из из из заданной строки строки при помощи регулярных выражений.\""
   ]
  },
  {
   "cell_type": "code",
   "execution_count": 195,
   "id": "9b4f83e5-362c-4eca-ae62-8a0f613d22ce",
   "metadata": {},
   "outputs": [
    {
     "data": {
      "text/plain": [
       "'Напишите функцию, которая будет удалять все последовательные повторы слов из заданной строки при помощи регулярных выражений.'"
      ]
     },
     "execution_count": 195,
     "metadata": {},
     "output_type": "execute_result"
    }
   ],
   "source": [
    "# re.findall(r'\\b([^\\W\\d]+)(\\s+\\1)+\\b', some_string)\n",
    "# re.sub(r'\\b([^\\W\\d]+)(\\s+\\1)+\\b',r'\\1', some_string, flags=re.I)"
   ]
  },
  {
   "cell_type": "code",
   "execution_count": 198,
   "id": "1c949284-168f-4b19-917c-b26b1832b8e3",
   "metadata": {},
   "outputs": [],
   "source": [
    "def repit_delete (income_string):\n",
    "    return re.sub(r'\\b([^\\W\\d]+)(\\s+\\1)+\\b',r'\\1', income_string, flags=re.IGNORECASE)"
   ]
  },
  {
   "cell_type": "code",
   "execution_count": 199,
   "id": "35cc7936-68e8-4832-a9a3-0343d934af93",
   "metadata": {},
   "outputs": [
    {
     "data": {
      "text/plain": [
       "'Напишите функцию, которая будет удалять все последовательные повторы слов из заданной строки при помощи регулярных выражений.'"
      ]
     },
     "execution_count": 199,
     "metadata": {},
     "output_type": "execute_result"
    }
   ],
   "source": [
    "repit_delete(some_string)"
   ]
  },
  {
   "cell_type": "markdown",
   "id": "1e2ccb31-c4ac-45d9-9813-d4acac722094",
   "metadata": {},
   "source": [
    "### Задание 3\n",
    "Напишите функцию, которая будет возвращать акроним по переданной в нее строке со словами.\n",
    "\n",
    "Примеры работы программы:\n",
    "\n",
    "some_words = 'Информационные технологии'\n",
    "Результат: ИТ\n",
    "\n",
    "some_words = 'Near Field Communication'\n",
    "Результат: NFC"
   ]
  },
  {
   "cell_type": "code",
   "execution_count": 274,
   "id": "95492244-c77d-4332-82f6-7ddaf10b68a5",
   "metadata": {},
   "outputs": [],
   "source": [
    "\n",
    "def acronim (some_words):\n",
    "    return ''.join(re.findall(r'\\b\\w', some_words, flags=re.IGNORECASE)).upper()\n"
   ]
  },
  {
   "cell_type": "code",
   "execution_count": 278,
   "id": "336c7d43-f330-4c57-b8ea-824857025e81",
   "metadata": {},
   "outputs": [
    {
     "name": "stdin",
     "output_type": "stream",
     "text": [
      "Введите текст для получения АКРОНИМА: Информационные технологии\n"
     ]
    },
    {
     "name": "stdout",
     "output_type": "stream",
     "text": [
      "Результат: ИТ\n"
     ]
    }
   ],
   "source": [
    "print(f'Результат: {acronim(some_words = input(\"Введите текст для получения АКРОНИМА:\"))}')"
   ]
  },
  {
   "cell_type": "code",
   "execution_count": null,
   "id": "4a1d68e9-9bdc-46be-86e6-07a9d50a5d40",
   "metadata": {},
   "outputs": [],
   "source": [
    "\n"
   ]
  },
  {
   "cell_type": "markdown",
   "id": "b02572b0-5f86-4463-97ce-923e0d9df2b7",
   "metadata": {},
   "source": [
    "### Задание 4\n",
    "Напишите функцию, которая будет принимать на вход список email-адресов и выводить их распределение по доменным зонам.\n",
    "\n",
    "Пример работы программы:\n",
    "\n",
    "emails = ['test@gmail.com', 'xyz@test.in', 'test@ya.ru', 'xyz@mail.ru', 'xyz@ya.ru', 'xyz@gmail.com']\n",
    "\n",
    "Результат:\n",
    "\n",
    "gmail.com: 2\n",
    "test.in: 1\n",
    "ya.ru: 2\n",
    "mail.ru: 1"
   ]
  },
  {
   "cell_type": "code",
   "execution_count": 306,
   "id": "fca00e35-2d6f-4fbc-861e-983299923c54",
   "metadata": {},
   "outputs": [
    {
     "name": "stdout",
     "output_type": "stream",
     "text": [
      "<class 'list'>\n"
     ]
    }
   ],
   "source": [
    "emails = ['test@gmail.com', 'xyz@test.in', 'test@ya.ru', 'xyz@mail.ru', 'xyz@ya.ru', 'xyz@gmail.com']\n"
   ]
  },
  {
   "cell_type": "code",
   "execution_count": 472,
   "id": "de897140-631b-4809-848c-b1eb49a92e98",
   "metadata": {},
   "outputs": [],
   "source": [
    "def domen_from_email_count (emails_list):\n",
    "    \"\"\"\n",
    "    функция, которая принимает на вход список email-адресов и выводить их распределение по доменным зонам.\n",
    "    \"\"\"\n",
    "    import json\n",
    "    web_address = re.findall(r'(?<=\\@)(\\w+.\\w+)', ', '.join(emails_list), flags=re.IGNORECASE)\n",
    "    res = \"\".join(json.dumps({i:web_address.count(i) for i in web_address})).strip('{}').replace('\"', '').replace(',', '')\n",
    "    return print(f' Результат: \\n {res}')"
   ]
  },
  {
   "cell_type": "code",
   "execution_count": 473,
   "id": "ca68787d-509a-40d4-9635-a9376b89a66f",
   "metadata": {},
   "outputs": [
    {
     "name": "stdout",
     "output_type": "stream",
     "text": [
      " Результат: \n",
      " gmail.com: 2 test.in: 1 ya.ru: 2 mail.ru: 1\n"
     ]
    }
   ],
   "source": [
    "domen_from_email_count(emails)"
   ]
  },
  {
   "cell_type": "markdown",
   "id": "a9c81c83-9509-4968-9327-c1667c9c56bb",
   "metadata": {},
   "source": [
    "### Задание 5 (необязательное)\n",
    "\n",
    "Напишите функцию, которая будет подсчитывать сколько слов начинается на гласные, а сколько на согласные буквы в тексте (текст может быть написан как с использованием букв кириллицы, так и латиницы).\n",
    "\n",
    "Пример работы программы:\n",
    "\n",
    "some_text = 'Эталонной реализацией Python является интерпретатор CPython, поддерживающий большинство активно используемых платформ. Он распространяется под свободной лицензией Python Software Foundation License, позволяющей использовать его без ограничений в любых приложениях, включая проприетарные.'\n",
    "\n",
    "Результат:\n",
    "\n",
    "Слов на гласные буквы: 9\n",
    "Слов на согласные буквы: 21"
   ]
  },
  {
   "cell_type": "code",
   "execution_count": 588,
   "id": "0eaf4991-0ff2-4f1d-9369-ccffef7c5c62",
   "metadata": {},
   "outputs": [],
   "source": [
    "some_text = 'Эталонной реализацией Python является интерпретатор CPython, поддерживающий большинство активно используемых платформ. Он распространяется под свободной лицензией Python Software Foundation License, позволяющей использовать его без ограничений в любых приложениях, включая проприетарные.'"
   ]
  },
  {
   "cell_type": "code",
   "execution_count": 589,
   "id": "7d7ca7a8-21db-4620-9ee3-74e7e28b729b",
   "metadata": {},
   "outputs": [],
   "source": [
    "def count_first_letters(input_text):\n",
    "    res1 = len(re.findall(r'\\b[ауоыэяюёиеaeiouy]', input_text.lower(), flags=re.IGNORECASE))\n",
    "    res2 = len(re.findall(r'\\b[^ауоыэяюёиеaeiouy ,!?\\.-:\\'\\\"0-9]', input_text.lower(), flags=re.IGNORECASE))\n",
    "    return print(f' Результат: \\n Слов на гласные буквы: {res1} \\n Слов на согласные буквы: {res2}')"
   ]
  },
  {
   "cell_type": "code",
   "execution_count": 590,
   "id": "b985f0bd-b2f2-43ff-9290-0d0ad9cccad7",
   "metadata": {},
   "outputs": [
    {
     "name": "stdout",
     "output_type": "stream",
     "text": [
      " Результат: \n",
      " Слов на гласные буквы: 9 \n",
      " Слов на согласные буквы: 21\n"
     ]
    }
   ],
   "source": [
    "count_first_letters(some_text)"
   ]
  },
  {
   "cell_type": "markdown",
   "id": "44ed831e-851d-4990-8c01-90a727ac0e30",
   "metadata": {},
   "source": [
    "### Задание 6 (необязательное)\n",
    "\n",
    "Напишите функцию, которая будет проверять номер сотового телефона на валидность (только для российского формата), если он валиден, то переводить его в формат:\n",
    "+7-xxx-xxx-xx-xx\n",
    "Постарайтесь предусмотреть как можно больше адекватных форматов изначального ввода номера. Примеры работы программы:\n",
    "\n",
    "phone = '+7 955 555-55-55'\n",
    "Результат: +7-955-555-55-55\n",
    "\n",
    "phone = '8(955)555-55-55'\n",
    "Результат: +7-955-555-55-55\n",
    "\n",
    "phone = '+7 955 555 55 55'\n",
    "Результат: +7-955-555-55-55\n",
    "\n",
    "phone = '7(955) 555-55-55'\n",
    "Результат: +7-955-555-55-55\n",
    "\n",
    "phone = '423-555-55-5555'\n",
    "Результат: Номер не валиден\n",
    "\n",
    "phone = '123-456-789'\n",
    "Результат: Номер не валиден"
   ]
  },
  {
   "cell_type": "code",
   "execution_count": 586,
   "id": "f64ca4bf-3903-4453-8738-ca8177c63eb9",
   "metadata": {},
   "outputs": [],
   "source": [
    "def phone_format(phone):\n",
    "    pattern_phone = r'[\\+]?[7|8]{1}[(]?[-\\s\\.]?([0-9]{3})[)]?[-\\s\\.]?([0-9]{3})[-\\s\\.]?([0-9]{2})[-\\s\\.]?([0-9]{2})'\n",
    "    if re.match(pattern_phone, phone): # проверяем что все введено верно и нет ошибок вводе\n",
    "        result = re.search(pattern_phone, phone) # для выводы ищем группы и в выводе объеденяем в соответсвии с условием\n",
    "        print(f'phone = {phone}  Результат: +7-{result.group(1)}-{result.group(2)}-{result.group(3)}-{result.group(4)}')\n",
    "    else: \n",
    "        print(f'phone = {phone} Результат: Номер не валиден')\n"
   ]
  },
  {
   "cell_type": "code",
   "execution_count": 587,
   "id": "8486cd02-724e-4e61-bdaf-d6c20ff2f9c8",
   "metadata": {},
   "outputs": [
    {
     "name": "stdin",
     "output_type": "stream",
     "text": [
      "Введите номер телефона для проверки на валидность (только российский формат) 8-916-229-1234\n"
     ]
    },
    {
     "name": "stdout",
     "output_type": "stream",
     "text": [
      "phone = 8-916-229-1234  Результат: +7-916-229-12-34\n"
     ]
    }
   ],
   "source": [
    "phone_format(input('Введите номер телефона для проверки на валидность (только российский формат)'))"
   ]
  }
 ],
 "metadata": {
  "kernelspec": {
   "display_name": "Python 3 (ipykernel)",
   "language": "python",
   "name": "python3"
  },
  "language_info": {
   "codemirror_mode": {
    "name": "ipython",
    "version": 3
   },
   "file_extension": ".py",
   "mimetype": "text/x-python",
   "name": "python",
   "nbconvert_exporter": "python",
   "pygments_lexer": "ipython3",
   "version": "3.9.12"
  }
 },
 "nbformat": 4,
 "nbformat_minor": 5
}
