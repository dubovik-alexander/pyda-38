{
 "cells": [
  {
   "cell_type": "markdown",
   "id": "dbfe2a6e-b2b8-46dd-80c6-d5281030c651",
   "metadata": {},
   "source": [
    "## Домашнее задание к лекции «Случайные события. Случайные величины»"
   ]
  },
  {
   "cell_type": "markdown",
   "id": "131cdf99-183d-4657-918b-a79409fbcee4",
   "metadata": {},
   "source": [
    "Смоделировать игру против лотерейного автомата типа “777”. Игрок платит 1 руб., после чего выпадает случайное целое число, равномерно распределенное от 0 до 999. При некоторых значениях числа игрок получает выигрыш."
   ]
  },
  {
   "cell_type": "markdown",
   "id": "97b316ba-4dfb-4a70-a8ce-09908fee60ec",
   "metadata": {},
   "source": [
    "- 777: 200 руб.\n",
    "- 999: 100 руб.\n",
    "- 555: 50 руб.\n",
    "- 333: 15 руб.\n",
    "- 111: 10 руб.\n",
    "- *77: 5 руб.\n",
    "- **7: 3 руб.\n",
    "- *00: 2 руб.\n",
    "- **0: 1 руб."
   ]
  },
  {
   "cell_type": "markdown",
   "id": "103f35f0-f5b7-4ab6-a177-4272497161b7",
   "metadata": {},
   "source": [
    "Вопросы:\n",
    "\n",
    "Выгодна ли игра игроку?\n",
    "Сколько в среднем приобретает или теряет игрок за одну игру?"
   ]
  },
  {
   "cell_type": "markdown",
   "id": "05c7ed9c-4df2-4a1e-bbbf-1e66b7c307c1",
   "metadata": {},
   "source": [
    "### Решение:"
   ]
  },
  {
   "cell_type": "code",
   "execution_count": 2,
   "id": "bdb9a22d-6e30-4674-bd7f-f9ee69a5ff83",
   "metadata": {},
   "outputs": [],
   "source": [
    "import numpy as np"
   ]
  },
  {
   "cell_type": "code",
   "execution_count": 14,
   "id": "5264fc44-2a13-448c-8c9a-2a926a8eb9c6",
   "metadata": {},
   "outputs": [
    {
     "name": "stdout",
     "output_type": "stream",
     "text": [
      "Теоретическая вероятность выпадения чисел: 204\n",
      "\n",
      "\n",
      "Количество выигрышей: 2072\n",
      "Количество проигрышей: 7928\n",
      "\n",
      "Сумма выигрыша: 8742\n",
      "Сумма проигрыша: 1258\n",
      "\n",
      "Доля «выигрышей»: 0.2072\n",
      "Доля «проигрышей»: 0.7928\n",
      "\n",
      "Вероятность выигрыша: 0.204\n",
      "Вероятность проигрыша:0.796\n",
      "\n",
      "Средний выигрыш: 4.22\n",
      "Средний проигрыш: 0.16\n"
     ]
    }
   ],
   "source": [
    "games = 10000                 # Количество игр\n",
    "cost = 1                      # учитывая, что 1 игра = 1 рублю, так же можно используя эту переменную задать любую начальную стоимость игры.\n",
    "money_spent = games * cost    # сколько всего денег потрачено за все игры\n",
    "winnings = 0                  # Количество выигрышей\n",
    "losses = 0                    # Количество проигрышей\n",
    "\n",
    "p = 0\n",
    "for i in range(0, 1000):\n",
    "    if i == 777 or i == 999 or i == 555 or i == 333 or i == 111:\n",
    "        p += 1\n",
    "    elif i % 100 == 77:\n",
    "        p += 1\n",
    "    elif i % 10 == 7 and i % 100 != 77:\n",
    "        p += 1\n",
    "    elif i //10 % 10 == 0 and i % 10 == 0:\n",
    "        p += 1\n",
    "    elif i % 10 == 0:\n",
    "        p += 1\n",
    "print(f'Теоретическая вероятность выпадения чисел: {p}\\n\\n') \n",
    "\n",
    "sum_win = 0\n",
    "x_mean_win = 0\n",
    "x_mean_los = 0\n",
    "\n",
    "for i in range(games):\n",
    "    random_num = np.random.randint(0, 1000)    # Случайные числа от 0 до 999\n",
    "    if random_num == 777:\n",
    "        winnings += 1\n",
    "        sum_win += 200\n",
    "    elif random_num == 999:\n",
    "        winnings += 1\n",
    "        sum_win += 100\n",
    "    elif random_num == 555:\n",
    "        winnings += 1\n",
    "        sum_win += 50\n",
    "    elif random_num == 333:\n",
    "        winnings += 1\n",
    "        sum_win += 15\n",
    "    elif random_num == 111:\n",
    "        winnings += 1\n",
    "        sum_win += 10\n",
    "    elif random_num % 100 == 77:\n",
    "        winnings += 1\n",
    "        sum_win += 5\n",
    "    elif random_num % 10 == 7: \n",
    "        winnings += 1\n",
    "        sum_win += 3\n",
    "    elif random_num //10 % 10 == 0 and random_num % 10 == 0: # *00\n",
    "        winnings += 1\n",
    "        sum_win += 2\n",
    "    elif random_num % 10 == 0:\n",
    "        winnings += 1\n",
    "        sum_win += 1\n",
    "    else:\n",
    "        losses += 1\n",
    "    \n",
    "    \n",
    "print(f'Количество выигрышей: {winnings}\\nКоличество проигрышей: {losses}\\n\\n\\\n",
    "Сумма выигрыша: {sum_win}\\nСумма проигрыша: {money_spent - sum_win}\\n\\n\\\n",
    "Доля «выигрышей»: {winnings / games}\\nДоля «проигрышей»: {losses / games}\\n\\n\\\n",
    "Вероятность выигрыша: {p/1000}\\nВероятность проигрыша:{1-p/1000}\\n')\n",
    "print(f'Средний выигрыш: {sum_win/winnings:.2f}\\nСредний проигрыш: {(money_spent-sum_win)/losses:.2f}')\n",
    "        "
   ]
  },
  {
   "cell_type": "markdown",
   "id": "d3198129-9e35-4608-9112-e2c3a0298287",
   "metadata": {},
   "source": [
    "#### С большой долей вероятности можно предположить, учитывая, что рассчитанная и Доля выигрыша равны между собой, что данная игра не выгодна игроку. (Если вовремя не взять выигрыш, если вдруг такое случилось, с долей веротяности 20%,  который покрыл расходы и уйти) :)"
   ]
  },
  {
   "cell_type": "markdown",
   "id": "2d0db85b-d928-4ddc-a870-64c75cc8cd56",
   "metadata": {},
   "source": [
    "## Теоретически рассчитать средний выигрыш (проигрыш) и сравнить с результатами моделирования"
   ]
  },
  {
   "cell_type": "code",
   "execution_count": 16,
   "id": "2de81465-7e61-41d3-9333-65d704c6d603",
   "metadata": {},
   "outputs": [
    {
     "name": "stdout",
     "output_type": "stream",
     "text": [
      "0.7999999999999999\n"
     ]
    }
   ],
   "source": [
    "res = 0.001*(200 + 100 + 50 + 15 + 10) + (9/1000)*5 + (10/1000)*2 + (90/1000)*3 + (90/1000)*1\n",
    "print(res)"
   ]
  },
  {
   "cell_type": "code",
   "execution_count": 8,
   "id": "10240dbe-678c-443b-aef2-8749b4e3b8da",
   "metadata": {},
   "outputs": [
    {
     "name": "stdout",
     "output_type": "stream",
     "text": [
      "Средний выигрыш теоретически должен быть: 0.80, при этом в смоделированной среде средний выигрыш составил: 3.55\n"
     ]
    }
   ],
   "source": [
    "print(f'Средний выигрыш теоретически должен быть: {res:.2f}, при этом в смоделированной среде средний выигрыш составил: {sum_win/winnings:.2f}')"
   ]
  },
  {
   "cell_type": "markdown",
   "id": "53acca89-68be-4735-8d5a-5f31f5c8eb37",
   "metadata": {},
   "source": [
    "Если я все правильно рассчитал, то теоретически рассчитанный средний выигрыш у меня получился в 10 раз больше, чем смоделированный.\n",
    "Таким образом, можно с большой долей вероятности предположить, что вероятность выигрыша в смоделированной среде значительно ниже, чем в теоретической."
   ]
  },
  {
   "cell_type": "code",
   "execution_count": 15,
   "id": "7a0a9462-fb6b-4b9a-a155-d4b29132ce3e",
   "metadata": {},
   "outputs": [
    {
     "data": {
      "text/plain": [
       "204"
      ]
     },
     "execution_count": 15,
     "metadata": {},
     "output_type": "execute_result"
    }
   ],
   "source": []
  }
 ],
 "metadata": {
  "kernelspec": {
   "display_name": "Python 3 (ipykernel)",
   "language": "python",
   "name": "python3"
  },
  "language_info": {
   "codemirror_mode": {
    "name": "ipython",
    "version": 3
   },
   "file_extension": ".py",
   "mimetype": "text/x-python",
   "name": "python",
   "nbconvert_exporter": "python",
   "pygments_lexer": "ipython3",
   "version": "3.9.12"
  }
 },
 "nbformat": 4,
 "nbformat_minor": 5
}
